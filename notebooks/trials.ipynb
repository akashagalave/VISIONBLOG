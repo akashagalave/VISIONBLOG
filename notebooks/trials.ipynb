{
 "cells": [
  {
   "cell_type": "code",
   "execution_count": null,
   "id": "082857e0",
   "metadata": {},
   "outputs": [
    {
     "data": {
      "text/plain": [
       "'c:\\\\Final Projects\\\\VisionBlog'"
      ]
     },
     "execution_count": 10,
     "metadata": {},
     "output_type": "execute_result"
    }
   ],
   "source": [
    "#%pwd"
   ]
  },
  {
   "cell_type": "code",
   "execution_count": null,
   "id": "bd95a217",
   "metadata": {},
   "outputs": [],
   "source": [
    "#os.chdir(\"../\")"
   ]
  },
  {
   "cell_type": "code",
   "execution_count": 11,
   "id": "e52e5ae8",
   "metadata": {},
   "outputs": [],
   "source": [
    "import os\n",
    "import sys\n",
    "from PIL import Image\n",
    "from src.helper import ImageProcessor, BlogFormatter\n",
    "from src.prompt import construct_multimodal_prompt\n",
    "from openai import OpenAI"
   ]
  },
  {
   "cell_type": "code",
   "execution_count": 12,
   "id": "532a963d",
   "metadata": {},
   "outputs": [],
   "source": [
    "OPENAI_API_KEY=os.environ.get('OPENAI_API_KEY')"
   ]
  },
  {
   "cell_type": "code",
   "execution_count": null,
   "id": "41f662d6",
   "metadata": {},
   "outputs": [],
   "source": [
    "img_path = r\"test-images\\sample.jpg\"\n",
    "image = Image.open(img_path)\n",
    "\n",
    "processor = ImageProcessor()\n",
    "valid, msg = processor.validate(image)\n",
    "\n",
    "if valid:\n",
    "    preprocessed_img = processor.preprocess(image)\n",
    "    print(\"Preprocessed image shape:\", preprocessed_img.size)\n",
    "else:\n",
    "    print(\"Validation failed:\", msg)"
   ]
  },
  {
   "cell_type": "code",
   "execution_count": null,
   "id": "ddfa1dcb",
   "metadata": {},
   "outputs": [],
   "source": [
    "prompt = construct_multimodal_prompt([preprocessed_img], \"AI in wildlife\", \"Informative\", \"Conversational\", \"Short (~200 words)\")\n",
    "print(\"Prompt Example:\", prompt)"
   ]
  },
  {
   "cell_type": "code",
   "execution_count": null,
   "id": "d2745346",
   "metadata": {},
   "outputs": [],
   "source": [
    "api_key = os.getenv(\"OPENAI_API_KEY\")\n",
    "openai = OpenAI(api_key=api_key)"
   ]
  },
  {
   "cell_type": "code",
   "execution_count": null,
   "id": "424d52b2",
   "metadata": {},
   "outputs": [],
   "source": [
    "dummy_ai_output = \"\"\"\n",
    "# The Role of AI in Wildlife Conservation\n",
    "\n",
    "Artificial intelligence is transforming how scientists monitor...\n",
    "\n",
    "Tags: AI, Wildlife, Conservation\n",
    "\"\"\"\n",
    "formatter = BlogFormatter()\n",
    "blog_post = formatter.format(dummy_ai_output, [preprocessed_img])\n",
    "print(\"Blog Post Struct:\", blog_post)\n",
    "print(\"Markdown Preview:\\n\", formatter.to_markdown(blog_post))"
   ]
  }
 ],
 "metadata": {
  "kernelspec": {
   "display_name": "vision",
   "language": "python",
   "name": "python3"
  },
  "language_info": {
   "codemirror_mode": {
    "name": "ipython",
    "version": 3
   },
   "file_extension": ".py",
   "mimetype": "text/x-python",
   "name": "python",
   "nbconvert_exporter": "python",
   "pygments_lexer": "ipython3",
   "version": "3.11.7"
  }
 },
 "nbformat": 4,
 "nbformat_minor": 5
}
